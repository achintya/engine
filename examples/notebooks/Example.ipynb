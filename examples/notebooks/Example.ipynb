{
 "cells": [
  {
   "cell_type": "code",
   "execution_count": 118,
   "metadata": {},
   "outputs": [],
   "source": [
    "from sourced.engine import Engine\n",
    "from pyspark.sql import SparkSession\n",
    "from pyspark.sql.functions import *\n",
    "\n",
    "spark = SparkSession.builder\\\n",
    ".master(\"local[*]\").appName(\"Examples\")\\\n",
    ".getOrCreate()\n",
    "\n",
    "engine = Engine(spark, \"/repositories\", \"standard\")"
   ]
  },
  {
   "cell_type": "markdown",
   "metadata": {},
   "source": [
    "### Print Schema to show meta data from repositories"
   ]
  },
  {
   "cell_type": "code",
   "execution_count": 119,
   "metadata": {},
   "outputs": [
    {
     "name": "stdout",
     "output_type": "stream",
     "text": [
      "root\n",
      " |-- id: string (nullable = false)\n",
      " |-- urls: array (nullable = false)\n",
      " |    |-- element: string (containsNull = false)\n",
      " |-- is_fork: boolean (nullable = true)\n",
      " |-- repository_path: string (nullable = true)\n",
      "\n"
     ]
    }
   ],
   "source": [
    "engine.repositories.printSchema()"
   ]
  },
  {
   "cell_type": "markdown",
   "metadata": {},
   "source": [
    "### Show all repositories in /repositories"
   ]
  },
  {
   "cell_type": "markdown",
   "metadata": {},
   "source": [
    "Even though there are 2 repositories, 4 are shown because of the remote and local references in git"
   ]
  },
  {
   "cell_type": "code",
   "execution_count": 120,
   "metadata": {},
   "outputs": [
    {
     "name": "stdout",
     "output_type": "stream",
     "text": [
      "+--------------------+--------------------+-------+--------------------+\n",
      "|                  id|                urls|is_fork|     repository_path|\n",
      "+--------------------+--------------------+-------+--------------------+\n",
      "|github.com/keras-...|[https://github.c...|  false|file:/repositorie...|\n",
      "|file:///repositor...|                  []|  false|file:/repositorie...|\n",
      "|github.com/pandas...|[https://github.c...|  false|file:/repositorie...|\n",
      "|file:///repositor...|                  []|  false|file:/repositorie...|\n",
      "+--------------------+--------------------+-------+--------------------+\n",
      "\n"
     ]
    }
   ],
   "source": [
    "engine.repositories.show()"
   ]
  },
  {
   "cell_type": "markdown",
   "metadata": {},
   "source": [
    "### Count the total of non-fork repositories"
   ]
  },
  {
   "cell_type": "code",
   "execution_count": 121,
   "metadata": {},
   "outputs": [
    {
     "data": {
      "text/plain": [
       "4"
      ]
     },
     "execution_count": 121,
     "metadata": {},
     "output_type": "execute_result"
    }
   ],
   "source": [
    "engine.repositories.filter(\"is_fork = false\")\\\n",
    ".select(\"id\").distinct()\\\n",
    ".count()"
   ]
  },
  {
   "cell_type": "markdown",
   "metadata": {},
   "source": [
    "### Print schema of blobs in all head commits"
   ]
  },
  {
   "cell_type": "code",
   "execution_count": 122,
   "metadata": {},
   "outputs": [
    {
     "name": "stdout",
     "output_type": "stream",
     "text": [
      "root\n",
      " |-- blob_id: string (nullable = false)\n",
      " |-- commit_hash: string (nullable = false)\n",
      " |-- repository_id: string (nullable = false)\n",
      " |-- reference_name: string (nullable = false)\n",
      " |-- content: binary (nullable = true)\n",
      " |-- is_binary: boolean (nullable = false)\n",
      " |-- path: string (nullable = false)\n",
      "\n"
     ]
    }
   ],
   "source": [
    "head_blobs = engine.repositories.filter(\"is_fork = false\").references\\\n",
    ".head_ref.commits.first_reference_commit\\\n",
    ".tree_entries.blobs\\\n",
    ".printSchema()"
   ]
  },
  {
   "cell_type": "markdown",
   "metadata": {},
   "source": [
    "### Get the first 50 Python blobs from head commits"
   ]
  },
  {
   "cell_type": "code",
   "execution_count": 123,
   "metadata": {},
   "outputs": [],
   "source": [
    "head_blobs = engine.repositories.filter(\"is_fork = false\").references\\\n",
    ".head_ref.commits.first_reference_commit\\\n",
    ".tree_entries.blobs\\\n",
    ".classify_languages()\\\n",
    ".filter(\"is_binary = false\")\\\n",
    ".filter(\"lang = 'Python'\")\\\n",
    ".extract_uasts()\\\n",
    ".limit(50)\\\n",
    ".cache()"
   ]
  },
  {
   "cell_type": "markdown",
   "metadata": {},
   "source": [
    "### Get the schema"
   ]
  },
  {
   "cell_type": "code",
   "execution_count": 124,
   "metadata": {},
   "outputs": [
    {
     "name": "stdout",
     "output_type": "stream",
     "text": [
      "root\n",
      " |-- blob_id: string (nullable = false)\n",
      " |-- commit_hash: string (nullable = false)\n",
      " |-- repository_id: string (nullable = false)\n",
      " |-- reference_name: string (nullable = false)\n",
      " |-- content: binary (nullable = true)\n",
      " |-- is_binary: boolean (nullable = false)\n",
      " |-- path: string (nullable = false)\n",
      " |-- lang: string (nullable = true)\n",
      " |-- uast: array (nullable = true)\n",
      " |    |-- element: binary (containsNull = true)\n",
      "\n"
     ]
    }
   ],
   "source": [
    "head_blobs.printSchema()"
   ]
  },
  {
   "cell_type": "markdown",
   "metadata": {},
   "source": [
    "### Print result"
   ]
  },
  {
   "cell_type": "code",
   "execution_count": 125,
   "metadata": {},
   "outputs": [
    {
     "name": "stdout",
     "output_type": "stream",
     "text": [
      "+--------------------+--------------------+--------------------+---------------+--------------------+---------+--------------------+------+-------------+\n",
      "|             blob_id|         commit_hash|       repository_id| reference_name|             content|is_binary|                path|  lang|         uast|\n",
      "+--------------------+--------------------+--------------------+---------------+--------------------+---------+--------------------+------+-------------+\n",
      "|ad26818a5e4152dff...|beda1bc5132e6fef1...|github.com/keras-...|refs/heads/HEAD|[23 20 2D 2A 2D 2...|    false|     docs/autogen.py|Python|[[B@74b40f87]|\n",
      "|727700bdfacb742da...|beda1bc5132e6fef1...|github.com/keras-...|refs/heads/HEAD|[23 20 2D 2A 2D 2...|    false|examples/addition...|Python|[[B@2735c04d]|\n",
      "|ca92cdec58f03bb26...|beda1bc5132e6fef1...|github.com/keras-...|refs/heads/HEAD|[27 27 27 54 68 6...|    false|examples/antirect...|Python|[[B@11957f4c]|\n",
      "|cbbccba2eba393bd9...|beda1bc5132e6fef1...|github.com/keras-...|refs/heads/HEAD|[27 27 27 54 72 6...|    false|examples/babi_mem...|Python|[[B@5abaca2b]|\n",
      "|515c6ebd70c0f294e...|beda1bc5132e6fef1...|github.com/keras-...|refs/heads/HEAD|[27 27 27 54 72 6...|    false|examples/babi_rnn.py|Python| [[B@ea62ecc]|\n",
      "|a6f24b8c6770be6ed...|beda1bc5132e6fef1...|github.com/keras-...|refs/heads/HEAD|[27 27 27 54 72 6...|    false|examples/cifar10_...|Python| [[B@798b0fd]|\n",
      "|532620c516b772121...|beda1bc5132e6fef1...|github.com/keras-...|refs/heads/HEAD|[22 22 22 54 72 6...|    false|examples/cifar10_...|Python|[[B@3dcdc05d]|\n",
      "|4a48304605916550a...|beda1bc5132e6fef1...|github.com/keras-...|refs/heads/HEAD|[27 27 27 56 69 7...|    false|examples/conv_fil...|Python|[[B@312abe5d]|\n",
      "|89727d4b52f6a9088...|beda1bc5132e6fef1...|github.com/keras-...|refs/heads/HEAD|[22 22 22 20 54 6...|    false|examples/conv_lst...|Python| [[B@ec526fa]|\n",
      "|73c9c522f5b0a6618...|beda1bc5132e6fef1...|github.com/keras-...|refs/heads/HEAD|[27 27 27 44 65 6...|    false|examples/deep_dre...|Python|[[B@4c186087]|\n",
      "|7370e5210ff1be766...|beda1bc5132e6fef1...|github.com/keras-...|refs/heads/HEAD|[23 20 2D 2A 2D 2...|    false|examples/image_oc...|Python|[[B@1f849e71]|\n",
      "|1cc5e8876b446113f...|beda1bc5132e6fef1...|github.com/keras-...|refs/heads/HEAD|[27 27 27 54 72 6...|    false|examples/imdb_bid...|Python|[[B@7b38038a]|\n",
      "|f12cc314f759a1bff...|beda1bc5132e6fef1...|github.com/keras-...|refs/heads/HEAD|[27 27 27 54 68 6...|    false|examples/imdb_cnn.py|Python|[[B@5ced18e1]|\n",
      "|90190ff36c76e0f38...|beda1bc5132e6fef1...|github.com/keras-...|refs/heads/HEAD|[27 27 27 54 72 6...|    false|examples/imdb_cnn...|Python|[[B@53fe47a3]|\n",
      "|6a7e6ff3737493e17...|beda1bc5132e6fef1...|github.com/keras-...|refs/heads/HEAD|[27 27 27 54 68 6...|    false|examples/imdb_fas...|Python|[[B@68323cbb]|\n",
      "|c0a4f9c306bb0584b...|beda1bc5132e6fef1...|github.com/keras-...|refs/heads/HEAD|[27 27 27 54 72 6...|    false|examples/imdb_lst...|Python|[[B@532d4664]|\n",
      "|7eaa44a30a8870133...|beda1bc5132e6fef1...|github.com/keras-...|refs/heads/HEAD|[27 27 27 53 65 7...|    false|examples/lstm_seq...|Python|[[B@67b376f0]|\n",
      "|0a204b087931a1ee8...|beda1bc5132e6fef1...|github.com/keras-...|refs/heads/HEAD|[27 27 27 45 78 6...|    false|examples/lstm_sta...|Python|[[B@4651f6fa]|\n",
      "|907e7d866cf4def9c...|beda1bc5132e6fef1...|github.com/keras-...|refs/heads/HEAD|[27 27 27 45 78 6...|    false|examples/lstm_tex...|Python|[[B@3f7fdd6f]|\n",
      "|aed2bac4ec222840f...|beda1bc5132e6fef1...|github.com/keras-...|refs/heads/HEAD|[23 20 2D 2A 2D 2...|    false|examples/mnist_ac...|Python| [[B@658a282]|\n",
      "|45518e7d95257d7e2...|beda1bc5132e6fef1...|github.com/keras-...|refs/heads/HEAD|[27 27 27 54 72 6...|    false|examples/mnist_cn...|Python|[[B@7a20504f]|\n",
      "|cda4620c016a1e49f...|beda1bc5132e6fef1...|github.com/keras-...|refs/heads/HEAD|[27 27 27 4D 4E 4...|    false|examples/mnist_da...|Python|[[B@338f9fd7]|\n",
      "|07514917834eea87e...|beda1bc5132e6fef1...|github.com/keras-...|refs/heads/HEAD|[22 22 22 45 78 6...|    false|examples/mnist_hi...|Python|[[B@72daa86c]|\n",
      "|07f630a79f548b05e...|beda1bc5132e6fef1...|github.com/keras-...|refs/heads/HEAD|[27 27 27 54 68 6...|    false|examples/mnist_ir...|Python|[[B@31554807]|\n",
      "|20e5b22ffafefbc24...|beda1bc5132e6fef1...|github.com/keras-...|refs/heads/HEAD|[27 27 27 54 72 6...|    false|examples/mnist_ml...|Python|[[B@498fc44a]|\n",
      "|c8c05bff393095edc...|beda1bc5132e6fef1...|github.com/keras-...|refs/heads/HEAD|[27 27 27 54 68 6...|    false|examples/mnist_ne...|Python| [[B@6b19b8b]|\n",
      "|dce6a26feb4c0c51b...|beda1bc5132e6fef1...|github.com/keras-...|refs/heads/HEAD|[27 27 27 54 72 6...|    false|examples/mnist_si...|Python|[[B@210fcaf9]|\n",
      "|567f53a6da9590a1a...|beda1bc5132e6fef1...|github.com/keras-...|refs/heads/HEAD|[27 27 27 45 78 6...|    false|examples/mnist_sk...|Python|[[B@3a81abaf]|\n",
      "|2e5225a2b94db41ea...|beda1bc5132e6fef1...|github.com/keras-...|refs/heads/HEAD|[27 27 27 54 72 6...|    false|examples/mnist_sw...|Python| [[B@d1b8521]|\n",
      "|214ccb038eec9e2ec...|beda1bc5132e6fef1...|github.com/keras-...|refs/heads/HEAD|[27 27 27 4D 4E 4...|    false|examples/mnist_tf...|Python| [[B@7fc3aca]|\n",
      "|ff12b2a5833962cdd...|beda1bc5132e6fef1...|github.com/keras-...|refs/heads/HEAD|[27 27 27 54 72 6...|    false|examples/mnist_tr...|Python|[[B@58fb60ce]|\n",
      "|a896dedfd36b6baf3...|beda1bc5132e6fef1...|github.com/keras-...|refs/heads/HEAD|[27 27 27 4E 65 7...|    false|examples/neural_d...|Python|[[B@6f9064ad]|\n",
      "|059e457d4e0c8dae2...|beda1bc5132e6fef1...|github.com/keras-...|refs/heads/HEAD|[27 27 27 4E 65 7...|    false|examples/neural_s...|Python|[[B@3ef3c6f3]|\n",
      "|d5f931ebee0423f47...|beda1bc5132e6fef1...|github.com/keras-...|refs/heads/HEAD|[27 27 27 54 68 6...|    false|examples/pretrain...|Python|[[B@583f918d]|\n",
      "|e1a141648ed452557...|beda1bc5132e6fef1...|github.com/keras-...|refs/heads/HEAD|[27 27 27 54 72 6...|    false|examples/reuters_...|Python|[[B@5b417754]|\n",
      "|351ca0b02efa185fb...|beda1bc5132e6fef1...|github.com/keras-...|refs/heads/HEAD|[27 27 27 43 6F 6...|    false|examples/reuters_...|Python|[[B@3798d59d]|\n",
      "|fd6ff447216151291...|beda1bc5132e6fef1...|github.com/keras-...|refs/heads/HEAD|[27 27 27 54 68 6...|    false|examples/variatio...|Python|[[B@177c59c3]|\n",
      "|4d6dcb079f2ee4874...|beda1bc5132e6fef1...|github.com/keras-...|refs/heads/HEAD|[27 27 27 54 68 6...|    false|examples/variatio...|Python|[[B@336b0158]|\n",
      "|4eea681d8a2b79020...|beda1bc5132e6fef1...|github.com/keras-...|refs/heads/HEAD|[66 72 6F 6D 20 5...|    false|   keras/__init__.py|Python|[[B@63402bb6]|\n",
      "|7cbc43e2f92c979cf...|beda1bc5132e6fef1...|github.com/keras-...|refs/heads/HEAD|[66 72 6F 6D 20 5...|    false|keras/activations.py|Python|[[B@12053e7e]|\n",
      "|5b494587dc937aca4...|beda1bc5132e6fef1...|github.com/keras-...|refs/heads/HEAD|[66 72 6F 6D 20 2...|    false|keras/application...|Python|[[B@67c2dfbc]|\n",
      "|3ab5821990bf51baf...|beda1bc5132e6fef1...|github.com/keras-...|refs/heads/HEAD|[69 6D 70 6F 72 7...|    false|keras/application...|Python| [[B@cc863dd]|\n",
      "|a9a61fbf32aaf5d77...|beda1bc5132e6fef1...|github.com/keras-...|refs/heads/HEAD|[23 20 2D 2A 2D 2...|    false|keras/application...|Python|[[B@6e37f469]|\n",
      "|8b1ca24a4bb2ec423...|beda1bc5132e6fef1...|github.com/keras-...|refs/heads/HEAD|[23 20 2D 2A 2D 2...|    false|keras/application...|Python|[[B@557ac11f]|\n",
      "|69c2a557511b83254...|beda1bc5132e6fef1...|github.com/keras-...|refs/heads/HEAD|[22 22 22 4D 6F 6...|    false|keras/application...|Python|[[B@24b4db33]|\n",
      "|a8af51cfa5ad1cf6c...|beda1bc5132e6fef1...|github.com/keras-...|refs/heads/HEAD|[27 27 27 4E 41 5...|    false|keras/application...|Python|[[B@6bad82f3]|\n",
      "|0ee87d05c432ba1a7...|beda1bc5132e6fef1...|github.com/keras-...|refs/heads/HEAD|[23 20 2D 2A 2D 2...|    false|keras/application...|Python|[[B@3ae8b753]|\n",
      "|f7321afb7e4193fbb...|beda1bc5132e6fef1...|github.com/keras-...|refs/heads/HEAD|[23 20 2D 2A 2D 2...|    false|keras/application...|Python|[[B@3999fb28]|\n",
      "|1b9e48b05b592658b...|beda1bc5132e6fef1...|github.com/keras-...|refs/heads/HEAD|[23 20 2D 2A 2D 2...|    false|keras/application...|Python|[[B@3b76d26b]|\n",
      "|5e8aff1b61e03ddaf...|beda1bc5132e6fef1...|github.com/keras-...|refs/heads/HEAD|[23 20 2D 2A 2D 2...|    false|keras/application...|Python|[[B@3c4b65ec]|\n",
      "+--------------------+--------------------+--------------------+---------------+--------------------+---------+--------------------+------+-------------+\n",
      "\n"
     ]
    }
   ],
   "source": [
    "head_blobs.show(50)"
   ]
  },
  {
   "cell_type": "markdown",
   "metadata": {},
   "source": [
    "### Or instead do a sampling of 5% of the blobs"
   ]
  },
  {
   "cell_type": "code",
   "execution_count": 126,
   "metadata": {},
   "outputs": [],
   "source": [
    "head_blobs = engine.repositories.filter(\"is_fork = false\").references\\\n",
    ".head_ref.commits.first_reference_commit\\\n",
    ".tree_entries.blobs\\\n",
    ".classify_languages()\\\n",
    ".filter(\"is_binary = false\")\\\n",
    ".filter(\"lang = 'Python'\")\\\n",
    ".sample(False, 0.05, 1024)\\\n",
    ".extract_uasts()\\\n",
    ".cache()"
   ]
  },
  {
   "cell_type": "code",
   "execution_count": 127,
   "metadata": {},
   "outputs": [
    {
     "name": "stdout",
     "output_type": "stream",
     "text": [
      "70\n"
     ]
    }
   ],
   "source": [
    "c = head_blobs.count()\n",
    "print(c)"
   ]
  },
  {
   "cell_type": "code",
   "execution_count": 128,
   "metadata": {},
   "outputs": [
    {
     "name": "stdout",
     "output_type": "stream",
     "text": [
      "+--------------------+--------------------+--------------------+---------------+--------------------+---------+--------------------+------+-------------+\n",
      "|             blob_id|         commit_hash|       repository_id| reference_name|             content|is_binary|                path|  lang|         uast|\n",
      "+--------------------+--------------------+--------------------+---------------+--------------------+---------+--------------------+------+-------------+\n",
      "|cda4620c016a1e49f...|beda1bc5132e6fef1...|github.com/keras-...|refs/heads/HEAD|[27 27 27 4D 4E 4...|    false|examples/mnist_da...|Python|[[B@1d0a2be6]|\n",
      "|07f630a79f548b05e...|beda1bc5132e6fef1...|github.com/keras-...|refs/heads/HEAD|[27 27 27 54 68 6...|    false|examples/mnist_ir...|Python|[[B@508bd6ad]|\n",
      "|c8c05bff393095edc...|beda1bc5132e6fef1...|github.com/keras-...|refs/heads/HEAD|[27 27 27 54 68 6...|    false|examples/mnist_ne...|Python| [[B@e350845]|\n",
      "|4c4ad165a8b89b089...|beda1bc5132e6fef1...|github.com/keras-...|refs/heads/HEAD|[66 72 6F 6D 20 5...|    false|keras/datasets/ci...|Python|[[B@25956417]|\n",
      "|5a390311c77531c0b...|beda1bc5132e6fef1...|github.com/keras-...|refs/heads/HEAD|[23 20 2D 2A 2D 2...|    false|keras/engine/topo...|Python|[[B@698c3e58]|\n",
      "|12b6bacb0a2030248...|beda1bc5132e6fef1...|github.com/keras-...|refs/heads/HEAD|[23 20 2D 2A 2D 2...|    false|keras/layers/norm...|Python|[[B@673ca37a]|\n",
      "|5be59def8c8b8d55d...|beda1bc5132e6fef1...|github.com/keras-...|refs/heads/HEAD|[69 6D 70 6F 72 7...|    false|tests/keras/activ...|Python|[[B@41edf8f8]|\n",
      "|0de0b7b7b3183b328...|beda1bc5132e6fef1...|github.com/keras-...|refs/heads/HEAD|[69 6D 70 6F 72 7...|    false|tests/keras/regul...|Python|[[B@4f56890e]|\n",
      "|727700bdfacb742da...|beda1bc5132e6fef1...|file:///repositor...|           HEAD|[23 20 2D 2A 2D 2...|    false|examples/addition...|Python|[[B@47a01042]|\n",
      "|059e457d4e0c8dae2...|beda1bc5132e6fef1...|file:///repositor...|           HEAD|[27 27 27 4E 65 7...|    false|examples/neural_s...|Python|[[B@45054cbf]|\n",
      "|d5f931ebee0423f47...|beda1bc5132e6fef1...|file:///repositor...|           HEAD|[27 27 27 54 68 6...|    false|examples/pretrain...|Python|[[B@6b8146df]|\n",
      "|ddeaaa468dafd2b4e...|beda1bc5132e6fef1...|file:///repositor...|           HEAD|[66 72 6F 6D 20 5...|    false|keras/datasets/im...|Python|[[B@10e4ac58]|\n",
      "|44c48b71bae02282a...|beda1bc5132e6fef1...|file:///repositor...|           HEAD|[23 20 2D 2A 2D 2...|    false|keras/layers/adva...|Python|[[B@57818c06]|\n",
      "|e69de29bb2d1d6434...|beda1bc5132e6fef1...|file:///repositor...|           HEAD|                  []|    false|keras/legacy/__in...|Python|           []|\n",
      "|b4074b4c6e9f478c3...|beda1bc5132e6fef1...|file:///repositor...|           HEAD|[22 22 22 4C 65 6...|    false| keras/objectives.py|Python|[[B@380e52fd]|\n",
      "|48316a06d137eb7f3...|beda1bc5132e6fef1...|file:///repositor...|           HEAD|[69 6D 70 6F 72 7...|    false|tests/keras/appli...|Python|[[B@59d84c9d]|\n",
      "|44c97e3bbfdaf78bb...|beda1bc5132e6fef1...|file:///repositor...|           HEAD|[69 6D 70 6F 72 7...|    false|tests/keras/layer...|Python|[[B@6c6bbd92]|\n",
      "|391a209cb2a898cdf...|08a66e111a60b9a25...|github.com/pandas...|refs/heads/HEAD|[69 6D 70 6F 72 7...|    false|asv_bench/benchma...|Python|[[B@37d1fda5]|\n",
      "|cc6071b054662f2a7...|08a66e111a60b9a25...|github.com/pandas...|refs/heads/HEAD|[66 72 6F 6D 20 2...|    false|asv_bench/benchma...|Python|[[B@7d82c818]|\n",
      "|a46205026481e5ec3...|08a66e111a60b9a25...|github.com/pandas...|refs/heads/HEAD|[69 6D 70 6F 72 7...|    false|asv_bench/benchma...|Python|[[B@6625df91]|\n",
      "|dd2180f6eeb193cf5...|08a66e111a60b9a25...|github.com/pandas...|refs/heads/HEAD|[23 21 2F 75 73 7...|    false| ci/print_skipped.py|Python|[[B@571379ea]|\n",
      "|8cddd3305f0bc1748...|08a66e111a60b9a25...|github.com/pandas...|refs/heads/HEAD|[66 72 6F 6D 20 5...|    false|doc/sphinxext/num...|Python|[[B@6f178a78]|\n",
      "|167f215b6c0ace773...|08a66e111a60b9a25...|github.com/pandas...|refs/heads/HEAD|[22 22 22 0A 47 6...|    false|pandas/core/algor...|Python| [[B@4be5d8a]|\n",
      "|7ba2c16530cad5448...|08a66e111a60b9a25...|github.com/pandas...|refs/heads/HEAD|[22 22 22 4F 70 6...|    false|pandas/core/compu...|Python|[[B@4c2fc3db]|\n",
      "|64756906d8a63b58a...|08a66e111a60b9a25...|github.com/pandas...|refs/heads/HEAD|[23 20 70 79 6C 6...|    false|pandas/core/index...|Python|  [[B@bf2f9d]|\n",
      "|2fe82e5d6bc57a795...|08a66e111a60b9a25...|github.com/pandas...|refs/heads/HEAD|[69 6D 70 6F 72 7...|    false|pandas/core/resha...|Python|[[B@53a831b8]|\n",
      "|0424ac8703e255b9e...|08a66e111a60b9a25...|github.com/pandas...|refs/heads/HEAD|[22 22 22 0A 53 7...|    false|pandas/core/spars...|Python|[[B@258c744a]|\n",
      "|e69de29bb2d1d6434...|08a66e111a60b9a25...|github.com/pandas...|refs/heads/HEAD|                  []|    false|pandas/io/formats...|Python|           []|\n",
      "|eaaa14e756e227854...|08a66e111a60b9a25...|github.com/pandas...|refs/heads/HEAD|[22 22 22 20 70 6...|    false|pandas/io/parquet.py|Python|[[B@170f4a3b]|\n",
      "|fa6b29a1a3fcc0c73...|08a66e111a60b9a25...|github.com/pandas...|refs/heads/HEAD|[66 72 6F 6D 20 2...|    false|pandas/io/sas/__i...|Python|[[B@6eb54c80]|\n",
      "|06b61371c9a0bba73...|08a66e111a60b9a25...|github.com/pandas...|refs/heads/HEAD|[23 20 2D 2A 2D 2...|    false|pandas/tests/dtyp...|Python|[[B@7c02951f]|\n",
      "|c85fea3c3d71b4771...|08a66e111a60b9a25...|github.com/pandas...|refs/heads/HEAD|[69 6D 70 6F 72 7...|    false|pandas/tests/fram...|Python|[[B@3aea80f1]|\n",
      "|fbc4accd0e41ebc36...|08a66e111a60b9a25...|github.com/pandas...|refs/heads/HEAD|[23 20 2D 2A 2D 2...|    false|pandas/tests/fram...|Python|[[B@57d94b05]|\n",
      "|c89e3ddbfc5d0f920...|08a66e111a60b9a25...|github.com/pandas...|refs/heads/HEAD|[22 22 22 20 74 6...|    false|pandas/tests/inde...|Python|[[B@13ccdc32]|\n",
      "|729ee0093b6dcc8c4...|08a66e111a60b9a25...|github.com/pandas...|refs/heads/HEAD|[23 20 2D 2A 2D 2...|    false|pandas/tests/inte...|Python|[[B@7b8e0939]|\n",
      "|8525cb42c24552c1c...|08a66e111a60b9a25...|github.com/pandas...|refs/heads/HEAD|[23 20 2D 2A 2D 2...|    false|pandas/tests/io/p...|Python|[[B@150de3b1]|\n",
      "|e9909400ce429fd62...|08a66e111a60b9a25...|github.com/pandas...|refs/heads/HEAD|[22 22 22 20 74 6...|    false|pandas/tests/io/t...|Python| [[B@8110376]|\n",
      "|8aa32bc600ee68eb9...|08a66e111a60b9a25...|github.com/pandas...|refs/heads/HEAD|[23 20 2D 2A 2D 2...|    false|pandas/tests/tser...|Python|[[B@7dc9730a]|\n",
      "|e69de29bb2d1d6434...|08a66e111a60b9a25...|github.com/pandas...|refs/heads/HEAD|                  []|    false|pandas/tseries/__...|Python|           []|\n",
      "|63f86173eff587161...|08a66e111a60b9a25...|github.com/pandas...|refs/heads/HEAD|[23 21 2F 75 73 7...|    false| scripts/announce.py|Python|[[B@76057a4b]|\n",
      "|d6f24ebcc4d3e2da4...|08a66e111a60b9a25...|file:///repositor...|           HEAD|[22 22 22 0A 43 6...|    false| ci/check_imports.py|Python| [[B@c6f0f51]|\n",
      "|8d9b75ccd6c2c90e8...|08a66e111a60b9a25...|file:///repositor...|           HEAD|[23 20 70 79 6C 6...|    false|  pandas/__init__.py|Python| [[B@c65b719]|\n",
      "|cb8ad5e3ea46f9a51...|08a66e111a60b9a25...|file:///repositor...|           HEAD|[22 22 22 20 73 7...|    false|pandas/compat/num...|Python|[[B@3a02c4bc]|\n",
      "|d42be569635696f70...|08a66e111a60b9a25...|file:///repositor...|           HEAD|[22 22 22 0A 46 6...|    false|pandas/compat/num...|Python|[[B@67883695]|\n",
      "|e23609b23f529406f...|08a66e111a60b9a25...|file:///repositor...|           HEAD|[22 22 22 0A 41 7...|    false|  pandas/core/ops.py|Python|[[B@13e9a8b2]|\n",
      "|80ee680d2b9d2f485...|08a66e111a60b9a25...|file:///repositor...|           HEAD|[22 22 22 20 46 6...|    false|pandas/core/panel...|Python|[[B@321508a9]|\n",
      "|455c6f42ac74a6d12...|08a66e111a60b9a25...|file:///repositor...|           HEAD|[22 22 22 0A 53 5...|    false|pandas/core/resha...|Python|[[B@1e1e0d73]|\n",
      "|984e90ee03e695e50...|08a66e111a60b9a25...|file:///repositor...|           HEAD|[23 20 63 6F 64 6...|    false|pandas/io/msgpack...|Python|[[B@3804acbb]|\n",
      "|143b76575e36ba99a...|08a66e111a60b9a25...|file:///repositor...|           HEAD|[22 22 22 20 70 6...|    false| pandas/io/pickle.py|Python|[[B@66f63f31]|\n",
      "|c14524f7d7cd69b19...|08a66e111a60b9a25...|file:///repositor...|           HEAD|[22 22 22 0A 52 6...|    false|pandas/io/sas/sas...|Python|[[B@7c3c2306]|\n",
      "|16d6580c8795179cb...|08a66e111a60b9a25...|file:///repositor...|           HEAD|[23 20 66 6C 61 6...|    false|      pandas/json.py|Python|[[B@12a7dc67]|\n",
      "|2a45e20dda4cccb9a...|08a66e111a60b9a25...|file:///repositor...|           HEAD|[69 6D 70 6F 72 7...|    false|pandas/plotting/_...|Python| [[B@fdbcbfc]|\n",
      "|79758dee5cfdad474...|08a66e111a60b9a25...|file:///repositor...|           HEAD|[23 20 2D 2A 2D 2...|    false|pandas/tests/cate...|Python|[[B@58037281]|\n",
      "|09a0607b67a88f0f3...|08a66e111a60b9a25...|file:///repositor...|           HEAD|[23 20 2D 2A 2D 2...|    false|pandas/tests/cate...|Python|[[B@453a5e94]|\n",
      "|9da59ca77d862da5a...|08a66e111a60b9a25...|file:///repositor...|           HEAD|[23 20 2D 2A 2D 2...|    false|pandas/tests/gene...|Python|[[B@6952e6b0]|\n",
      "|b59dd25ead57f0898...|08a66e111a60b9a25...|file:///repositor...|           HEAD|[69 6D 70 6F 72 7...|    false|pandas/tests/inde...|Python|[[B@3807544d]|\n",
      "|70aadd9f57174018c...|08a66e111a60b9a25...|file:///repositor...|           HEAD|[69 6D 70 6F 72 7...|    false|pandas/tests/inde...|Python|[[B@7b53beb6]|\n",
      "|a5506abe8f35551b5...|08a66e111a60b9a25...|file:///repositor...|           HEAD|[22 22 22 20 74 6...|    false|pandas/tests/inde...|Python|[[B@6c8a91b6]|\n",
      "|e0422249289b7ebfb...|08a66e111a60b9a25...|file:///repositor...|           HEAD|[23 20 2D 2A 2D 2...|    false|pandas/tests/io/p...|Python|[[B@12938df1]|\n",
      "|9987a017cf98581d1...|08a66e111a60b9a25...|file:///repositor...|           HEAD|[23 20 2D 2A 2D 2...|    false|pandas/tests/io/p...|Python|[[B@103406d2]|\n",
      "|b5d1435c29cb7b3c4...|08a66e111a60b9a25...|file:///repositor...|           HEAD|[23 20 2D 2A 2D 2...|    false|pandas/tests/io/t...|Python|[[B@76f4bc6c]|\n",
      "|e69de29bb2d1d6434...|08a66e111a60b9a25...|file:///repositor...|           HEAD|                  []|    false|pandas/tests/resh...|Python|           []|\n",
      "|b7422dfd7e9118753...|08a66e111a60b9a25...|file:///repositor...|           HEAD|[23 20 2D 2A 2D 2...|    false|pandas/tests/resh...|Python|[[B@4e4b8425]|\n",
      "|c27af7a5bf8e4b9cf...|08a66e111a60b9a25...|file:///repositor...|           HEAD|[69 6D 70 6F 72 7...|    false|pandas/tests/resh...|Python|[[B@40b97418]|\n",
      "|f3be7bb9905f47181...|08a66e111a60b9a25...|file:///repositor...|           HEAD|[23 20 63 6F 64 6...|    false|pandas/tests/seri...|Python|[[B@708be84b]|\n",
      "|14a44c36c6a0c435f...|08a66e111a60b9a25...|file:///repositor...|           HEAD|[23 20 63 6F 64 6...|    false|pandas/tests/seri...|Python|[[B@23cf2dea]|\n",
      "|d983bd209085ad16c...|08a66e111a60b9a25...|file:///repositor...|           HEAD|[23 20 2D 2A 2D 2...|    false|pandas/tests/spar...|Python|[[B@31b7ef1a]|\n",
      "|d7fc5033bab9076c1...|08a66e111a60b9a25...|file:///repositor...|           HEAD|[23 20 2D 2A 2D 2...|    false|pandas/tests/test...|Python|[[B@3a254480]|\n",
      "|babf88ef1df8d826e...|08a66e111a60b9a25...|file:///repositor...|           HEAD|[23 20 2D 2A 2D 2...|    false|pandas/tests/test...|Python|[[B@15c32a3f]|\n",
      "|b306dba0be7f1ab43...|08a66e111a60b9a25...|file:///repositor...|           HEAD|[69 6D 70 6F 72 7...|    false|pandas/tests/tool...|Python|[[B@4f39e510]|\n",
      "+--------------------+--------------------+--------------------+---------------+--------------------+---------+--------------------+------+-------------+\n",
      "\n"
     ]
    }
   ],
   "source": [
    "head_blobs.show(c)"
   ]
  },
  {
   "cell_type": "markdown",
   "metadata": {},
   "source": [
    "### Get identifier tokens from Python files"
   ]
  },
  {
   "cell_type": "code",
   "execution_count": 129,
   "metadata": {},
   "outputs": [
    {
     "name": "stdout",
     "output_type": "stream",
     "text": [
      "root\n",
      " |-- blob_id: string (nullable = false)\n",
      " |-- commit_hash: string (nullable = false)\n",
      " |-- repository_id: string (nullable = false)\n",
      " |-- reference_name: string (nullable = false)\n",
      " |-- content: binary (nullable = true)\n",
      " |-- is_binary: boolean (nullable = false)\n",
      " |-- path: string (nullable = false)\n",
      " |-- lang: string (nullable = true)\n",
      " |-- uast: array (nullable = true)\n",
      " |    |-- element: binary (containsNull = true)\n",
      " |-- result: array (nullable = true)\n",
      " |    |-- element: binary (containsNull = true)\n",
      "\n"
     ]
    }
   ],
   "source": [
    "idents = head_blobs.query_uast('//*[@roleIdentifier and not(@roleIncomplete)]')\\\n",
    ".printSchema()"
   ]
  },
  {
   "cell_type": "code",
   "execution_count": 130,
   "metadata": {},
   "outputs": [],
   "source": [
    "idents = head_blobs.query_uast('//*[@roleIdentifier and not(@roleIncomplete)]')\\\n",
    ".select(\"repository_id\",\"path\",\"result\").distinct()"
   ]
  },
  {
   "cell_type": "code",
   "execution_count": 131,
   "metadata": {},
   "outputs": [],
   "source": [
    "tokens = idents.extract_tokens().cache()"
   ]
  },
  {
   "cell_type": "code",
   "execution_count": 132,
   "metadata": {},
   "outputs": [
    {
     "name": "stdout",
     "output_type": "stream",
     "text": [
      "root\n",
      " |-- repository_id: string (nullable = false)\n",
      " |-- path: string (nullable = false)\n",
      " |-- result: array (nullable = true)\n",
      " |    |-- element: binary (containsNull = true)\n",
      " |-- tokens: array (nullable = true)\n",
      " |    |-- element: string (containsNull = true)\n",
      "\n"
     ]
    }
   ],
   "source": [
    "tokens.printSchema()"
   ]
  },
  {
   "cell_type": "code",
   "execution_count": 133,
   "metadata": {},
   "outputs": [
    {
     "name": "stdout",
     "output_type": "stream",
     "text": [
      "+--------------------+--------------------+--------------------+--------------------+\n",
      "|       repository_id|                path|              result|              tokens|\n",
      "+--------------------+--------------------+--------------------+--------------------+\n",
      "|file:///repositor...|  pandas/core/ops.py|[[B@4ee15ed5, [B@...|[__future__, divi...|\n",
      "|file:///repositor...|pandas/tests/cate...|[[B@5f153d1d, [B@...|[pytest, pandas, ...|\n",
      "|github.com/keras-...|examples/mnist_ne...|[[B@254bc42d, [B@...|[__future__, prin...|\n",
      "|file:///repositor...|pandas/tests/io/t...|[[B@51ba5e58, [B@...|[numpy, np, numpy...|\n",
      "|github.com/keras-...|tests/keras/regul...|[[B@174b13c4, [B@...|[pytest, keras.mo...|\n",
      "|file:///repositor...|keras/legacy/__in...|                  []|                  []|\n",
      "|file:///repositor...|pandas/core/resha...|[[B@7060dede, [B@...|[copy, warnings, ...|\n",
      "|file:///repositor...|pandas/tests/seri...|[[B@67476857, [B@...|[numpy, np, panda...|\n",
      "|github.com/pandas...|pandas/io/formats...|                  []|                  []|\n",
      "|file:///repositor...| pandas/io/pickle.py|[[B@637442f8, [B@...|[numpy, np, numpy...|\n",
      "+--------------------+--------------------+--------------------+--------------------+\n",
      "\n"
     ]
    }
   ],
   "source": [
    "tokens.limit(10).show()"
   ]
  },
  {
   "cell_type": "markdown",
   "metadata": {},
   "source": [
    "### Filter blobs based on a specific token in the blob"
   ]
  },
  {
   "cell_type": "code",
   "execution_count": 134,
   "metadata": {},
   "outputs": [
    {
     "name": "stdout",
     "output_type": "stream",
     "text": [
      "+--------------------+\n",
      "|              tokens|\n",
      "+--------------------+\n",
      "|[__future__, prin...|\n",
      "|[__future__, prin...|\n",
      "|[__future__, prin...|\n",
      "|[__future__, prin...|\n",
      "|[__future__, prin...|\n",
      "|[__future__, prin...|\n",
      "|[__future__, prin...|\n",
      "|[sys, math, xml.e...|\n",
      "|[numpy, np, os, t...|\n",
      "+--------------------+\n",
      "\n"
     ]
    }
   ],
   "source": [
    "tokens.select(\"tokens\").where(array_contains(\"tokens\", \"print\")).show()"
   ]
  },
  {
   "cell_type": "markdown",
   "metadata": {},
   "source": [
    "### Top languages per number of blobs"
   ]
  },
  {
   "cell_type": "markdown",
   "metadata": {},
   "source": [
    "Results is only Python because there is a filter above on the blobs"
   ]
  },
  {
   "cell_type": "code",
   "execution_count": 135,
   "metadata": {},
   "outputs": [
    {
     "name": "stdout",
     "output_type": "stream",
     "text": [
      "+------+-----+\n",
      "|  lang|count|\n",
      "+------+-----+\n",
      "|Python|   70|\n",
      "+------+-----+\n",
      "\n"
     ]
    }
   ],
   "source": [
    "top_ten_langs = head_blobs.distinct()\\\n",
    ".groupBy(\"lang\").agg(count(\"*\").alias(\"count\"))\\\n",
    ".orderBy(\"count\").sort(desc(\"count\")).limit(10)\\\n",
    ".show()"
   ]
  },
  {
   "cell_type": "code",
   "execution_count": null,
   "metadata": {},
   "outputs": [],
   "source": []
  }
 ],
 "metadata": {
  "kernelspec": {
   "display_name": "Python 3",
   "language": "python",
   "name": "python3"
  },
  "language_info": {
   "codemirror_mode": {
    "name": "ipython",
    "version": 3
   },
   "file_extension": ".py",
   "mimetype": "text/x-python",
   "name": "python",
   "nbconvert_exporter": "python",
   "pygments_lexer": "ipython3",
   "version": "3.5.3"
  }
 },
 "nbformat": 4,
 "nbformat_minor": 2
}